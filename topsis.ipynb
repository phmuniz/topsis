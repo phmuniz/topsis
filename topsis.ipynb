{
 "cells": [
  {
   "cell_type": "code",
   "execution_count": 61,
   "id": "fb780a54-e86f-46e5-b27c-8fdf7f3ce2db",
   "metadata": {},
   "outputs": [],
   "source": [
    "import numpy as np\n",
    "import matplotlib.pyplot as plt"
   ]
  },
  {
   "cell_type": "code",
   "execution_count": 62,
   "id": "a53d4bb2-e502-402c-a18b-9c44bda02fb7",
   "metadata": {},
   "outputs": [],
   "source": [
    "np.set_printoptions(suppress = True)"
   ]
  },
  {
   "cell_type": "code",
   "execution_count": 63,
   "id": "66263872-a7f9-4eed-9d3a-61a36b86b137",
   "metadata": {},
   "outputs": [
    {
     "data": {
      "text/plain": [
       "array([[   15.,     6., 25000.,     7.],\n",
       "       [   12.,     7., 35000.,     7.],\n",
       "       [   10.,     9., 55000.,     8.]])"
      ]
     },
     "execution_count": 63,
     "metadata": {},
     "output_type": "execute_result"
    }
   ],
   "source": [
    "decision_array = np.genfromtxt('decision_array.csv', delimiter=',', dtype = float)\n",
    "decision_array"
   ]
  },
  {
   "cell_type": "code",
   "execution_count": 64,
   "id": "8336140a-e963-4427-bf80-036808363384",
   "metadata": {},
   "outputs": [
    {
     "data": {
      "text/plain": [
       "array([0.3 , 0.05, 0.6 , 0.05])"
      ]
     },
     "execution_count": 64,
     "metadata": {},
     "output_type": "execute_result"
    }
   ],
   "source": [
    "weights_vector = np.genfromtxt('weight.csv', delimiter=',', dtype = float)\n",
    "weights_vector"
   ]
  },
  {
   "cell_type": "code",
   "execution_count": 65,
   "id": "752863c4-49e4-4f31-ad6f-0e3a1513f02c",
   "metadata": {},
   "outputs": [
    {
     "data": {
      "text/plain": [
       "array([[0.69263564, 0.46569032, 0.35805744, 0.54997194],\n",
       "       [0.55410852, 0.54330537, 0.50128041, 0.54997194],\n",
       "       [0.4617571 , 0.69853547, 0.78772636, 0.62853936]])"
      ]
     },
     "execution_count": 65,
     "metadata": {},
     "output_type": "execute_result"
    }
   ],
   "source": [
    "a = np.power(decision_array, 2) \n",
    "b = a.sum(axis=0)\n",
    "c = np.sqrt(b)\n",
    "\n",
    "normalized_array = decision_array / c\n",
    "normalized_array"
   ]
  },
  {
   "cell_type": "code",
   "execution_count": 66,
   "id": "2f089286-7bdb-4013-94c8-69b28abe0ed4",
   "metadata": {},
   "outputs": [
    {
     "data": {
      "text/plain": [
       "array([[0.20779069, 0.02328452, 0.21483446, 0.0274986 ],\n",
       "       [0.16623255, 0.02716527, 0.30076825, 0.0274986 ],\n",
       "       [0.13852713, 0.03492677, 0.47263582, 0.03142697]])"
      ]
     },
     "execution_count": 66,
     "metadata": {},
     "output_type": "execute_result"
    }
   ],
   "source": [
    "weight_array = normalized_array * weights_vector\n",
    "weight_array"
   ]
  },
  {
   "cell_type": "code",
   "execution_count": 67,
   "id": "d5a502ab-ed64-4bdc-8703-2d93f95a877e",
   "metadata": {},
   "outputs": [
    {
     "data": {
      "text/plain": [
       "array([0.13852713, 0.03492677, 0.21483446, 0.03142697])"
      ]
     },
     "execution_count": 67,
     "metadata": {},
     "output_type": "execute_result"
    }
   ],
   "source": [
    "best_weight_1 = np.min(weight_array[:,0])\n",
    "best_weight_2 = np.max(weight_array[:,1])\n",
    "best_weight_3 = np.min(weight_array[:,2])\n",
    "best_weight_4 = np.max(weight_array[:,3])\n",
    "\n",
    "best_solution = np.array([best_weight_1, best_weight_2, best_weight_3, best_weight_4])\n",
    "best_solution"
   ]
  },
  {
   "cell_type": "code",
   "execution_count": 68,
   "id": "5c0eb523-7ee5-4547-9220-d071d637b950",
   "metadata": {},
   "outputs": [
    {
     "data": {
      "text/plain": [
       "array([0.20779069, 0.02328452, 0.47263582, 0.0274986 ])"
      ]
     },
     "execution_count": 68,
     "metadata": {},
     "output_type": "execute_result"
    }
   ],
   "source": [
    "worst_weight_1 = np.max(weight_array[:,0])\n",
    "worst_weight_2 = np.min(weight_array[:,1])\n",
    "worst_weight_3 = np.max(weight_array[:,2])\n",
    "worst_weight_4 = np.min(weight_array[:,3])\n",
    "\n",
    "worst_solution = np.array([worst_weight_1, worst_weight_2, worst_weight_3, worst_weight_4])\n",
    "worst_solution"
   ]
  },
  {
   "cell_type": "code",
   "execution_count": 69,
   "id": "015db71b-9984-4c49-9f59-5e0f507a473c",
   "metadata": {},
   "outputs": [
    {
     "data": {
      "text/plain": [
       "array([0.07034498, 0.09070766, 0.25780135])"
      ]
     },
     "execution_count": 69,
     "metadata": {},
     "output_type": "execute_result"
    }
   ],
   "source": [
    "d = weight_array - best_solution\n",
    "e = np.power(d, 2)\n",
    "f = np.sum(e, axis=1)\n",
    "distance_to_best = np.sqrt(f)\n",
    "distance_to_best"
   ]
  },
  {
   "cell_type": "code",
   "execution_count": 70,
   "id": "4fd4e31c-223d-4165-9fb0-c9a7d633cac4",
   "metadata": {},
   "outputs": [
    {
     "data": {
      "text/plain": [
       "array([0.25780135, 0.17686323, 0.07034498])"
      ]
     },
     "execution_count": 70,
     "metadata": {},
     "output_type": "execute_result"
    }
   ],
   "source": [
    "g = weight_array - worst_solution\n",
    "h = np.power(g, 2)\n",
    "i = np.sum(h, axis=1)\n",
    "distance_to_worst = np.sqrt(i)\n",
    "distance_to_worst"
   ]
  },
  {
   "cell_type": "code",
   "execution_count": 71,
   "id": "459367d0-ef11-475f-a094-d44e84cb6066",
   "metadata": {},
   "outputs": [
    {
     "data": {
      "text/plain": [
       "array([0.78562925, 0.66099579, 0.21437075])"
      ]
     },
     "execution_count": 71,
     "metadata": {},
     "output_type": "execute_result"
    }
   ],
   "source": [
    "relative_proximity = distance_to_worst / (distance_to_worst + distance_to_best)\n",
    "relative_proximity"
   ]
  },
  {
   "cell_type": "code",
   "execution_count": 74,
   "id": "d2d85109-d73f-48ea-8cfe-6b2bf594e124",
   "metadata": {},
   "outputs": [
    {
     "data": {
      "image/png": "[encoded data removed]",
      "text/plain": [
       "<Figure size 500x500 with 1 Axes>"
      ]
     },
     "metadata": {},
     "output_type": "display_data"
    }
   ],
   "source": [
    "fig, ax = plt.subplots(figsize=(5,5))\n",
    "ax.bar(['Pálio', 'HB20', 'Corolla'], relative_proximity, color='blue')\n",
    "plt.show()"
   ]
  }
 ],
 "metadata": {
  "kernelspec": {
   "display_name": "Python 3 (ipykernel)",
   "language": "python",
   "name": "python3"
  },
  "language_info": {
   "codemirror_mode": {
    "name": "ipython",
    "version": 3
   },
   "file_extension": ".py",
   "mimetype": "text/x-python",
   "name": "python",
   "nbconvert_exporter": "python",
   "pygments_lexer": "ipython3",
   "version": "3.13.2"
  }
 },
 "nbformat": 4,
 "nbformat_minor": 5
}
